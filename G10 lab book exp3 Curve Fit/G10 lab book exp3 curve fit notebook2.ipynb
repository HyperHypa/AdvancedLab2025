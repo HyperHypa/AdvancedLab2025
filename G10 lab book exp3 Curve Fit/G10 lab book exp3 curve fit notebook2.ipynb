{
 "cells": [
  {
   "cell_type": "code",
   "metadata": {
    "ExecuteTime": {
     "end_time": "2025-03-28T20:56:36.114438Z",
     "start_time": "2025-03-28T20:56:35.315874Z"
    }
   },
   "source": [
    "import csv\n",
    "import numpy as np\n",
    "import matplotlib.pyplot as plt\n",
    "from scipy.optimize import curve_fit"
   ],
   "outputs": [],
   "execution_count": 2
  },
  {
   "cell_type": "markdown",
   "metadata": {},
   "source": [
    "# Reading the CSV file and storing the values."
   ]
  },
  {
   "cell_type": "code",
   "metadata": {
    "ExecuteTime": {
     "end_time": "2025-03-28T20:56:36.123272Z",
     "start_time": "2025-03-28T20:56:36.119655Z"
    }
   },
   "source": [
    "length_list = []\n",
    "T_data = []\n",
    "\n",
    "with open('pendulum_experiment_2.csv', 'r', newline='') as f:\n",
    "    reader = csv.reader(f)\n",
    "    header = next(reader)  # skip the header row\n",
    "    \n",
    "    for row in reader:\n",
    "        length = float(row[0])\n",
    "        T_measurements = list(map(float, row[6:11]))   # convert T1..T5 to floats\n",
    "        \n",
    "        length_list.append(length)\n",
    "        T_data.append(T_measurements)\n",
    "        \n",
    "length_array = np.array(length_list)\n",
    "T_data = np.array(T_data)  # shape (N, 5) if you have N lengths\n",
    "\n",
    "    "
   ],
   "outputs": [],
   "execution_count": 3
  },
  {
   "cell_type": "markdown",
   "metadata": {},
   "source": [
    "### Debug Log\n",
    "```\n",
    "---------------------------------------------------------------------------\n",
    "UFuncTypeError                            Traceback (most recent call last)\n",
    "Cell In[152], line 2\n",
    "      1 # Method A: Fit using averaged data (5 points)\n",
    "----> 2 mean_periods = np.mean(T_data, axis=1)  # average over columns (5 repeated T's)\n",
    "      3 std_periods  = np.std(T_data, axis=1, ddof=1)  # sample std dev for each row\n",
    "      5 # Fit these 5 data points\n",
    "\n",
    "File c:\\Users\\windows\\AppData\\Local\\Programs\\Python\\Python312\\Lib\\site-packages\\numpy\\core\\fromnumeric.py:3504, in mean(a, axis, dtype, out, keepdims, where)\n",
    "   3501     else:\n",
    "   3502         return mean(axis=axis, dtype=dtype, out=out, **kwargs)\n",
    "-> 3504 return _methods._mean(a, axis=axis, dtype=dtype,\n",
    "   3505                       out=out, **kwargs)\n",
    "\n",
    "File c:\\Users\\windows\\AppData\\Local\\Programs\\Python\\Python312\\Lib\\site-packages\\numpy\\core\\_methods.py:118, in _mean(a, axis, dtype, out, keepdims, where)\n",
    "    115         dtype = mu.dtype('f4')\n",
    "    116         is_float16_result = True\n",
    "--> 118 ret = umr_sum(arr, axis, dtype, out, keepdims, where=where)\n",
    "    119 if isinstance(ret, mu.ndarray):\n",
    "    120     with _no_nep50_warning():\n",
    "\n",
    "UFuncTypeError: ufunc 'add' did not contain a loop with signature matching types (dtype('<U5'), dtype('<U5')) -> None\n",
    "\n",
    "```\n",
    "`T_measurements = list(row[6:11])` is changed to `T_measurements = list(map(float, row[6:11]))` : If you don’t use map, the items in row[6:11] will remain as strings. This can lead to issues later if you try to perform numerical operations on these values, since arithmetic with strings will result in errors.\n",
    "\n",
    "\n",
    " "
   ]
  },
  {
   "cell_type": "markdown",
   "metadata": {},
   "source": [
    "# Base Model : \n",
    "\n",
    "For Simple Pendulum:\n",
    "$$\n",
    "T = 2\\pi \\sqrt{\\frac{L}{g}}\n",
    "$$\n",
    "\n",
    "T : Period\n",
    "\n",
    "L : length of pendulum\n",
    "\n",
    "g : acceleration due to gravity"
   ]
  },
  {
   "cell_type": "code",
   "metadata": {
    "ExecuteTime": {
     "end_time": "2025-03-28T20:56:36.171170Z",
     "start_time": "2025-03-28T20:56:36.166929Z"
    }
   },
   "source": [
    "def pendulum_period(L, g): \n",
    "    return 2.0 * np.pi * np.sqrt(L / g) # period of a simple pendulum"
   ],
   "outputs": [],
   "execution_count": 4
  },
  {
   "cell_type": "markdown",
   "metadata": {},
   "source": [
    "# Method A : Fitting Using Average Data"
   ]
  },
  {
   "cell_type": "code",
   "metadata": {
    "ExecuteTime": {
     "end_time": "2025-03-28T20:56:36.223298Z",
     "start_time": "2025-03-28T20:56:36.217679Z"
    }
   },
   "source": [
    "# Method A: Fit using averaged data (5 points)\n",
    "mean_periods = np.mean(T_data, axis=1)  # average over columns (5 repeated T's)\n",
    "std_periods  = np.std(T_data, axis=1, ddof=1)  # sample std dev for each row\n",
    "\n",
    "# Fit these 5 data points\n",
    "poptA, pcovA = curve_fit(\n",
    "    pendulum_period,\n",
    "    length_array,\n",
    "    mean_periods,               # initial guess for g\n",
    "    sigma=std_periods,      # use the std dev as the error\n",
    "    absolute_sigma=True      # treat these errors as absolute\n",
    ")\n",
    "\n",
    "g_fitA = poptA[0] # fitted g value\n",
    "g_errA = np.sqrt(np.diag(pcovA))[0] # error in g\n",
    "\n",
    "print(\"=== Method A: Fit using averaged data (5 points) ===\")\n",
    "print(f\"Estimated g = {g_fitA:.4f} ± {g_errA:.4f} m/s^2\\n\") "
   ],
   "outputs": [
    {
     "name": "stdout",
     "output_type": "stream",
     "text": [
      "=== Method A: Fit using averaged data (5 points) ===\n",
      "Estimated g = 9.8505 ± 0.0487 m/s^2\n",
      "\n"
     ]
    }
   ],
   "execution_count": 5
  },
  {
   "cell_type": "markdown",
   "metadata": {},
   "source": [
    "# Method B : Using All 25 Data Points Individually"
   ]
  },
  {
   "cell_type": "code",
   "metadata": {
    "ExecuteTime": {
     "end_time": "2025-03-28T20:56:36.280353Z",
     "start_time": "2025-03-28T20:56:36.275602Z"
    }
   },
   "source": [
    "#METHOD B: USE ALL 25 DATA POINTS INDIVIDUALLY\n",
    "num_measurements = T_data.shape[1]  # number of T measurements per length\n",
    "all_lengths = np.repeat(length_array, num_measurements) # repeat each length 5 times\n",
    "all_periods = T_data.flatten() # flatten the 2D array to 1D\n",
    "all_sigmas  = np.repeat(std_periods, num_measurements) # repeat the std dev for each length\n",
    "\n",
    "\n",
    "# Now fit 25 points\n",
    "poptB, pcovB = curve_fit(\n",
    "    pendulum_period,\n",
    "    all_lengths,\n",
    "    all_periods,\n",
    "    sigma=all_sigmas,\n",
    "    absolute_sigma=True\n",
    ")\n",
    "\n",
    "g_fitB = poptB[0] # fitted g value\n",
    "g_errB = np.sqrt(np.diag(pcovB))[0] # error in g\n",
    "\n",
    "print(\"=== Method B: Fit using all data points (25 points) ===\")\n",
    "print(f\"Estimated g = {g_fitB:.4f} ± {g_errB:.4f} m/s^2\\n\")\n"
   ],
   "outputs": [
    {
     "name": "stdout",
     "output_type": "stream",
     "text": [
      "=== Method B: Fit using all data points (25 points) ===\n",
      "Estimated g = 9.8505 ± 0.0218 m/s^2\n",
      "\n"
     ]
    }
   ],
   "execution_count": 6
  },
  {
   "cell_type": "markdown",
   "metadata": {},
   "source": [
    "# Comparison of Method A and Method B"
   ]
  },
  {
   "cell_type": "code",
   "metadata": {
    "ExecuteTime": {
     "end_time": "2025-03-28T20:56:36.330129Z",
     "start_time": "2025-03-28T20:56:36.326948Z"
    }
   },
   "source": [
    "#COMPARE RESULTS\n",
    "# ------------------------------------------------------\n",
    "print(\"Comparison of results:\")\n",
    "print(f\"Method A (5 points):  g = {g_fitA:.4f} ± {g_errA:.4f}\")\n",
    "print(f\"Method B (25 points): g = {g_fitB:.4f} ± {g_errB:.4f}\")"
   ],
   "outputs": [
    {
     "name": "stdout",
     "output_type": "stream",
     "text": [
      "Comparison of results:\n",
      "Method A (5 points):  g = 9.8505 ± 0.0487\n",
      "Method B (25 points): g = 9.8505 ± 0.0218\n"
     ]
    }
   ],
   "execution_count": 7
  },
  {
   "cell_type": "code",
   "metadata": {
    "ExecuteTime": {
     "end_time": "2025-03-28T20:56:36.565726Z",
     "start_time": "2025-03-28T20:56:36.386430Z"
    }
   },
   "source": [
    "plt.figure(figsize=(8,5))\n",
    "\n",
    "# Plot Method A data\n",
    "plt.errorbar(\n",
    "    length_array, mean_periods, yerr=std_periods,\n",
    "    fmt='o', capsize=4, label='Mean ± std (Method A)'\n",
    ")\n",
    "\n",
    "# Overplot the fit curve for Method A\n",
    "L_fit = np.linspace(min(length_array), max(length_array), 100)\n",
    "T_fitA = pendulum_period(L_fit, g_fitA)\n",
    "plt.plot(L_fit, T_fitA, 'r--', label='Fit (Method A)')\n",
    "\n",
    "# Scatter all points from Method B (25 total) for visualization\n",
    "plt.scatter(\n",
    "    all_lengths, all_periods, marker='x', color='green',\n",
    "    alpha=0.6, label='All measurements (Method B)'\n",
    ")\n",
    "\n",
    "# Overplot the fit curve for Method B\n",
    "T_fitB = pendulum_period(L_fit, g_fitB)\n",
    "plt.plot(L_fit, T_fitB, 'g-', label='Fit (Method B)')\n",
    "\n",
    "plt.xlabel('Length (m)')\n",
    "plt.ylabel('Period (s)')\n",
    "plt.title('Pendulum Period vs. Length')\n",
    "plt.legend()\n",
    "plt.tight_layout()\n",
    "plt.show()"
   ],
   "outputs": [
    {
     "data": {
      "text/plain": [
       "<Figure size 800x500 with 1 Axes>"
      ],
      "image/png": "[encoded data removed]"
     },
     "metadata": {},
     "output_type": "display_data"
    }
   ],
   "execution_count": 8
  },
  {
   "cell_type": "markdown",
   "metadata": {},
   "source": [
    "### Results \n",
    "```\n",
    "Comparison of results:\n",
    "Method A (5 points):  g = 9.8505 ± 0.0487\n",
    "Method B (25 points): g = 9.8505 ± 0.0218\n",
    "```\n",
    "![Pendulum Period vs Length](./pictures/Pendulum_Period_vs_Length.png)\n",
    "\n",
    "### Result Explanation\n",
    "As we can see the comparison of the average fitting (method A) and the fitting of all 25 data points (method B), using method B has less errors when it comes to calculation acceleration due to gravity. For this case, using the all the different data points is more reliable than using the average data points since the dataset is quite small and using the average can lose some important information such as the outliers and noise.\n",
    "\n",
    "### Conclusion\n",
    "For this week we learnt that using all the data points is more reliable than using the average data points. We also learnt how to use NumPy's `mean` and `std` functions to calculate the mean and standard deviation of the data points. And something important when using `std` is the delta degree of freedom (ddof) should be set to 1 instead of using the default 0 because we are working with a sample data not the whole population."
   ]
  }
 ],
 "metadata": {
  "kernelspec": {
   "display_name": "Python 3",
   "language": "python",
   "name": "python3"
  },
  "language_info": {
   "codemirror_mode": {
    "name": "ipython",
    "version": 3
   },
   "file_extension": ".py",
   "mimetype": "text/x-python",
   "name": "python",
   "nbconvert_exporter": "python",
   "pygments_lexer": "ipython3",
   "version": "3.12.4"
  }
 },
 "nbformat": 4,
 "nbformat_minor": 2
}
